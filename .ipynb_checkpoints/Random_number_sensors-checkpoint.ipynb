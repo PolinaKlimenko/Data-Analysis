{
 "cells": [
  {
   "cell_type": "markdown",
   "metadata": {},
   "source": [
    "# Вариант 2."
   ]
  },
  {
   "cell_type": "code",
   "execution_count": 3,
   "metadata": {},
   "outputs": [],
   "source": [
    "import pandas as pd\n",
    "import numpy as np\n",
    "\n",
    "import matplotlib\n",
    "import matplotlib.pyplot as plt\n",
    "\n",
    "#  выбор темы картинок на Ваш вкус. Необязательная строчка.\n",
    "#  matplotlib.style.use('ggplot')\n",
    "#  Эта строчка нужна для того, чтобы картинки отображались в ячейках\n",
    "%matplotlib inline\n",
    "import random"
   ]
  },
  {
   "cell_type": "code",
   "execution_count": 4,
   "metadata": {},
   "outputs": [],
   "source": [
    "#  Задаем зерно датчика a, \n",
    "#  опция version=2 требует преобразовать а в целое число, если требуется\n",
    "random.seed(a=12345, version=2)"
   ]
  },
  {
   "cell_type": "markdown",
   "metadata": {},
   "source": [
    "# Лабораторная 1."
   ]
  },
  {
   "cell_type": "code",
   "execution_count": 7,
   "metadata": {},
   "outputs": [
    {
     "name": "stdout",
     "output_type": "stream",
     "text": [
      "n=10\n",
      "500: 0.592\n",
      "1000: 0.661\n",
      "2000: 0.632\n",
      "4000: 0.6235\n",
      "8000: 0.62175\n",
      "16000: 0.6328125\n",
      "32000: 0.6336875\n",
      "n=50\n",
      "500: 0.652\n",
      "1000: 0.616\n",
      "2000: 0.626\n",
      "4000: 0.63125\n",
      "8000: 0.63725\n",
      "16000: 0.6289375\n",
      "32000: 0.63390625\n",
      "64000: 0.632359375\n",
      "128000: 0.6316953125\n",
      "n=100\n",
      "500: 0.598\n",
      "1000: 0.627\n",
      "2000: 0.63\n",
      "4000: 0.618\n",
      "8000: 0.63525\n",
      "16000: 0.629875\n",
      "32000: 0.6300625\n",
      "n=1000\n",
      "500: 0.642\n",
      "1000: 0.621\n",
      "2000: 0.634\n",
      "4000: 0.6295\n",
      "8000: 0.63425\n",
      "16000: 0.6291875\n",
      "32000: 0.6308125\n",
      "64000: 0.632484375\n",
      "128000: 0.631359375\n",
      "256000: 0.6318203125\n"
     ]
    }
   ],
   "source": [
    "for n in [10, 50, 100, 1000]:\n",
    "    # Начальное число экспериментов\n",
    "    n_exp = 500\n",
    "\n",
    "    p_0 = 1          #   Вероятность, полученная на предыдущей попытке\n",
    "    delta_ = 0.1     #   \n",
    "    \n",
    "    print(f'n={n}')\n",
    "    while delta_ > 0.001:\n",
    "        count = 0\n",
    "        for k in range(n_exp):\n",
    "            letters = [i for i in range(n)]\n",
    "            a = random.sample(letters, n)\n",
    "            for i in range(n):\n",
    "                if a[i] == i:\n",
    "                    count += 1\n",
    "                    break\n",
    "\n",
    "        p= count/n_exp              # Оцениваем вероятность\n",
    "        print(f'{n_exp}: {p}')\n",
    "        delta_ = abs(p - p_0)        # Считаем изменение вероятности\n",
    "        p_0 = p                      # Новая оценка вероятности заменяет старую\n",
    "        n_exp = round(n_exp * 2)   # Увеличиваем число экспериментов\n",
    "    "
   ]
  },
  {
   "cell_type": "code",
   "execution_count": 8,
   "metadata": {},
   "outputs": [
    {
     "name": "stdout",
     "output_type": "stream",
     "text": [
      "512000\n",
      "0.6318203125\n"
     ]
    }
   ],
   "source": [
    "print(n_exp)\n",
    "print(p)"
   ]
  },
  {
   "cell_type": "markdown",
   "metadata": {},
   "source": [
    "#  Лабораторная 2"
   ]
  },
  {
   "cell_type": "code",
   "execution_count": 5,
   "metadata": {},
   "outputs": [
    {
     "name": "stdout",
     "output_type": "stream",
     "text": [
      "10000: 0.4201\n",
      "20000: 0.4291\n",
      "40000: 0.430625\n",
      "80000: 0.4269375\n",
      "160000: 0.425375\n",
      "320000: 0.425971875\n",
      "640000: 0.4257078125\n",
      "1280000: 0.426521875\n",
      "2560000: 0.42609453125\n",
      "5120000: 0.4264201171875\n",
      "10240000: 0.42662138671875\n",
      "20480000: 0.42650771484375\n",
      "40960000: 0.4265180419921875\n"
     ]
    }
   ],
   "source": [
    "# Число экспериментов\n",
    "n_exp = 10000\n",
    "\n",
    "\n",
    "p_0 = 1          #   Вероятность, полученная на предыдущей попытке\n",
    "delta_ = 0.1     #   \n",
    "\n",
    "#   Колода карт, важна только масть\n",
    "deck = [\"s\"] * 13 + [\"h\"] * 13 + [\"d\"] * 13 + [\"c\"] * 13 \n",
    "\n",
    "while delta_ >= 0.0001:\n",
    "\n",
    "#  Обнуляем счетчик\n",
    "    count_ = 0\n",
    "\n",
    "    for i in range(n_exp):             # Проводим n_exp экспериментов\n",
    "        a = random.sample(deck, 6)     # Выбираем 6 карт без возвращения\n",
    "\n",
    "#   Индийский код\n",
    "        if a.count(\"s\") > 0:\n",
    "            if a.count(\"h\") > 0:\n",
    "                if a.count(\"d\") > 0:\n",
    "                    if a.count(\"c\") > 0:\n",
    "                        count_ += 1\n",
    "\n",
    "    p= count_/n_exp              # Оцениваем вероятность\n",
    "    print(f'{n_exp}: {p}')\n",
    "    delta_ = abs(p - p_0)        # Считаем изменение вероятности\n",
    "    p_0 = p                      # Новая оценка вероятности заменяет старую\n",
    "    n_exp = round(n_exp * 2)   # Увеличиваем число экспериментов\n",
    "\n"
   ]
  },
  {
   "cell_type": "code",
   "execution_count": 6,
   "metadata": {},
   "outputs": [
    {
     "name": "stdout",
     "output_type": "stream",
     "text": [
      "81920000\n",
      "0.4265180419921875\n"
     ]
    }
   ],
   "source": [
    "print(n_exp)\n",
    "print(p)"
   ]
  },
  {
   "cell_type": "markdown",
   "metadata": {},
   "source": [
    "# Лабораторная 3"
   ]
  },
  {
   "cell_type": "code",
   "execution_count": 19,
   "metadata": {},
   "outputs": [
    {
     "data": {
      "text/plain": [
       "Text(0.705, 0.9, 'H')"
      ]
     },
     "execution_count": 19,
     "metadata": {},
     "output_type": "execute_result"
    },
    {
     "data": {
      "image/png": "[encoded data removed]",
      "text/plain": [
       "<Figure size 432x288 with 1 Axes>"
      ]
     },
     "metadata": {
      "needs_background": "light"
     },
     "output_type": "display_data"
    }
   ],
   "source": [
    "#  Пример расположения точки\n",
    "x =  np.array([0.7])\n",
    "y =  np.array([0.6])\n",
    "\n",
    "\n",
    "#  Вершины прямоугольника\n",
    "Rx = [0.0, 0.0, 1.0, 1.0, 0.0]\n",
    "Ry = [0.0, 1.0, 1.0, 0.0, 0.0]\n",
    "plt.axis([-0.1, 1.1, -0.1, 1.1])\n",
    "plt.plot(Rx, Ry)\n",
    "\n",
    "plt.plot(x, y, 'ro')\n",
    "\n",
    "plt.plot([0.0, 1.0], [0.6, 0.6], 'g')\n",
    "plt.plot([0.7, 0.7], [0.0, 1.0], 'g')\n",
    "\n",
    "\n",
    "plt.plot(np.append(x, 1.0), np.append(y, 1.0), 'b')\n",
    "plt.plot(np.append(x, 1.0), np.append(y, 0.0), 'b')\n",
    "plt.plot(np.append(x, 0.0), np.append(y, 1.0), 'b')\n",
    "plt.plot(np.append(x, 0.0), np.append(y, 0.0), 'b')\n",
    "\n",
    "plt.text(x = x+0.01, y = y +0.1, s = \"P\", fontsize=14)\n",
    "\n",
    "plt.text(x = 0.01, y = 0.1, s = \"A\", fontsize=14)\n",
    "plt.text(x = 0.01, y = 0.9, s = \"B\", fontsize=14)\n",
    "plt.text(x = 0.9, y = 0.01, s = \"C\", fontsize=14)\n",
    "plt.text(x = 0.9, y = 0.95, s = \"D\", fontsize=14)\n",
    "\n",
    "plt.text(x = 0.95, y = 0.65, s = \"E\", fontsize=14)\n",
    "plt.text(x = 0.705, y = 0.05, s = \"F\", fontsize=14)\n",
    "plt.text(x = 0.01, y = 0.65, s = \"G\", fontsize=14)\n",
    "plt.text(x = 0.705, y = 0.90, s = \"H\", fontsize=14)"
   ]
  },
  {
   "cell_type": "code",
   "execution_count": 20,
   "metadata": {},
   "outputs": [],
   "source": [
    "#  Нахожу четыре угла в прямоугольнике\n",
    "#  phi_1[DPE, BPG, GPA, EPC]\n",
    "\n",
    "phi_1 = np.arctan(np.array([(1.0 - y[0])/(1.0 - x[0]), \n",
    "                           (1.0 - y[0])/x[0], \n",
    "                           y[0]/x[0], \n",
    "                           y[0]/(1.0 - x[0])]))\n",
    "\n"
   ]
  },
  {
   "cell_type": "code",
   "execution_count": 23,
   "metadata": {},
   "outputs": [
    {
     "name": "stdout",
     "output_type": "stream",
     "text": [
      "10000: 0.602\n",
      "20000: 0.59235\n",
      "40000: 0.5968\n",
      "80000: 0.5964375\n",
      "160000: 0.5979875\n",
      "320000: 0.597609375\n",
      "640000: 0.5973296875\n",
      "1280000: 0.59613828125\n",
      "2560000: 0.596794921875\n",
      "5120000: 0.59664296875\n",
      "10240000: 0.596681640625\n"
     ]
    }
   ],
   "source": [
    "# Число экспериментов\n",
    "n_exp = 10000\n",
    "\n",
    "\n",
    "#  Задаем зерно датчика a \n",
    "#  version=2 требует преобразовать а в целое число, если требуется\n",
    "random.seed(a=12345, version=2)\n",
    "\n",
    "#  промежуточное значение среднего расстояния\n",
    "mean_tmp = 0\n",
    "\n",
    "p_0 = 1          #   Вероятность, полученная на предыдущей попытке\n",
    "delta_ = 0.1     #   \n",
    "\n",
    "\n",
    "while delta_ >= 0.0001:\n",
    "\n",
    "#  Обнуляем счетчик\n",
    "    count_ = 0\n",
    "\n",
    "    for i in range(n_exp):   \n",
    "\n",
    "        x = np.random.uniform(0.0, 1.0, 1)    \n",
    "        y = np.random.uniform(0.0, 1.0, 1)  \n",
    "        if x*y < 0.25 :\n",
    "            count_ += 1\n",
    "    \n",
    "    p= count_/n_exp              # Оцениваем вероятность\n",
    "    print(f'{n_exp}: {p}')\n",
    "    delta_ = abs(p - p_0)        # Считаем изменение вероятности\n",
    "    p_0 = p                      # Новая оценка вероятности заменяет старую\n",
    "    n_exp = round(n_exp * 2)   # Увеличиваем число экспериментов\n"
   ]
  },
  {
   "cell_type": "code",
   "execution_count": 24,
   "metadata": {},
   "outputs": [
    {
     "name": "stdout",
     "output_type": "stream",
     "text": [
      "20480000\n",
      "0.596681640625\n"
     ]
    }
   ],
   "source": [
    "print(n_exp)\n",
    "print(p)"
   ]
  },
  {
   "cell_type": "code",
   "execution_count": null,
   "metadata": {},
   "outputs": [],
   "source": []
  }
 ],
 "metadata": {
  "kernelspec": {
   "display_name": "Python 3",
   "language": "python",
   "name": "python3"
  },
  "language_info": {
   "codemirror_mode": {
    "name": "ipython",
    "version": 3
   },
   "file_extension": ".py",
   "mimetype": "text/x-python",
   "name": "python",
   "nbconvert_exporter": "python",
   "pygments_lexer": "ipython3",
   "version": "3.8.8"
  }
 },
 "nbformat": 4,
 "nbformat_minor": 4
}
