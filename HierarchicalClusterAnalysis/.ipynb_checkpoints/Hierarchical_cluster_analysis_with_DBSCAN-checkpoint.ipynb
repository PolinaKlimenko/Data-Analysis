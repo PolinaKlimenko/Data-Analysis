{
 "cells": [
  {
   "cell_type": "code",
   "execution_count": 1,
   "metadata": {},
   "outputs": [],
   "source": [
    "import numpy as np\n",
    "import pandas as pd\n",
    "\n",
    "import matplotlib\n",
    "import matplotlib.pyplot as plt\n",
    "matplotlib.style.use('ggplot')\n",
    "%matplotlib inline\n",
    "\n",
    "import os"
   ]
  },
  {
   "cell_type": "code",
   "execution_count": 2,
   "metadata": {},
   "outputs": [],
   "source": [
    "from sklearn.cluster import DBSCAN\n",
    "from scipy.cluster.hierarchy import dendrogram, linkage, fcluster"
   ]
  },
  {
   "cell_type": "code",
   "execution_count": 3,
   "metadata": {},
   "outputs": [],
   "source": [
    "df = pd.read_csv(\"Леденцы.dat\", sep=\";\")"
   ]
  },
  {
   "cell_type": "code",
   "execution_count": 4,
   "metadata": {},
   "outputs": [
    {
     "name": "stdout",
     "output_type": "stream",
     "text": [
      "     V1  V2  V3  V4  V5  V6  V7  V8  V9  V10  V11\n",
      "0     4   5   5   5   3   3   3   3   3    3    3\n",
      "1     5   4   5   5   3   3   3   3   3    3    3\n",
      "2     5   5   4   5   3   3   3   3   3    3    3\n",
      "3     5   4   5   5   3   3   3   3   3    3    3\n",
      "4     4   5   5   5   3   3   3   3   3    3    3\n",
      "..   ..  ..  ..  ..  ..  ..  ..  ..  ..  ...  ...\n",
      "333   3   3   3   3   3   3   5   5   3    3    3\n",
      "334   3   3   3   3   3   3   5   5   3    3    3\n",
      "335   3   3   3   3   3   3   5   5   3    3    3\n",
      "336   3   3   3   3   3   3   5   5   3    3    3\n",
      "337   3   3   3   3   3   3   5   5   3    3    3\n",
      "\n",
      "[338 rows x 11 columns]\n"
     ]
    }
   ],
   "source": [
    "print(df)"
   ]
  },
  {
   "cell_type": "markdown",
   "metadata": {},
   "source": [
    "Данные равнозначны, поэтому нормализовать не надо."
   ]
  },
  {
   "cell_type": "markdown",
   "metadata": {},
   "source": [
    "Рассмотрим для начала евклидово расстояние в качестве расстояния между точками данных. Попробуем применить DBSCAN с параметрами по умолчанию:"
   ]
  },
  {
   "cell_type": "code",
   "execution_count": 5,
   "metadata": {},
   "outputs": [
    {
     "data": {
      "text/plain": [
       "DBSCAN()"
      ]
     },
     "execution_count": 5,
     "metadata": {},
     "output_type": "execute_result"
    }
   ],
   "source": [
    "dbscan_1 = DBSCAN(eps=0.5, metric='euclidean', min_samples=5)\n",
    "dbscan_1.fit(df)"
   ]
  },
  {
   "cell_type": "markdown",
   "metadata": {},
   "source": [
    "Создадим таблицу частот:"
   ]
  },
  {
   "cell_type": "code",
   "execution_count": 6,
   "metadata": {},
   "outputs": [
    {
     "name": "stdout",
     "output_type": "stream",
     "text": [
      "[[-1 60]\n",
      " [ 0 10]\n",
      " [ 1  5]\n",
      " [ 2 49]\n",
      " [ 3 12]\n",
      " [ 4  9]\n",
      " [ 5 49]\n",
      " [ 6 15]\n",
      " [ 7 10]\n",
      " [ 8  6]\n",
      " [ 9 37]\n",
      " [10 10]\n",
      " [11  5]\n",
      " [12  9]\n",
      " [13 52]]\n"
     ]
    }
   ],
   "source": [
    "unique, counts = np.unique(dbscan_1.labels_, return_counts=True)\n",
    "print(np.asarray((unique, counts)).T)"
   ]
  },
  {
   "cell_type": "markdown",
   "metadata": {},
   "source": [
    "Получилось слишком много кластеров и выбрососв. Попробуем подобрать другие параметры кластеризации:"
   ]
  },
  {
   "cell_type": "code",
   "execution_count": 7,
   "metadata": {},
   "outputs": [
    {
     "name": "stdout",
     "output_type": "stream",
     "text": [
      "[[  0 338]]\n"
     ]
    }
   ],
   "source": [
    "dbscan_2 = DBSCAN(eps=5, metric='euclidean', min_samples=5)\n",
    "dbscan_2.fit(df)\n",
    "unique, counts = np.unique(dbscan_2.labels_, return_counts=True)\n",
    "print(np.asarray((unique, counts)).T)"
   ]
  },
  {
   "cell_type": "markdown",
   "metadata": {},
   "source": [
    "Такой эпсилон слишком большой. Уменьшим eps:"
   ]
  },
  {
   "cell_type": "code",
   "execution_count": 8,
   "metadata": {},
   "outputs": [
    {
     "name": "stdout",
     "output_type": "stream",
     "text": [
      "[[ -1   4]\n",
      " [  0 110]\n",
      " [  1 104]\n",
      " [  2 120]]\n"
     ]
    }
   ],
   "source": [
    "dbscan_3 = DBSCAN(eps=2, metric='euclidean', min_samples=5)\n",
    "dbscan_3.fit(df)\n",
    "unique, counts = np.unique(dbscan_3.labels_, return_counts=True)\n",
    "print(np.asarray((unique, counts)).T)"
   ]
  },
  {
   "cell_type": "markdown",
   "metadata": {},
   "source": [
    "Этот результат выглядит более разумно: выбросов мало, а кластеры почти одинакового размера. Попробуем теперь уменьшить min_samples:"
   ]
  },
  {
   "cell_type": "code",
   "execution_count": 9,
   "metadata": {},
   "outputs": [
    {
     "name": "stdout",
     "output_type": "stream",
     "text": [
      "[[  0 110]\n",
      " [  1 104]\n",
      " [  2   4]\n",
      " [  3 120]]\n"
     ]
    }
   ],
   "source": [
    "dbscan_4 = DBSCAN(eps=2, metric='euclidean', min_samples=4)\n",
    "dbscan_4.fit(df)\n",
    "unique, counts = np.unique(dbscan_4.labels_, return_counts=True)\n",
    "print(np.asarray((unique, counts)).T)"
   ]
  },
  {
   "cell_type": "markdown",
   "metadata": {},
   "source": [
    "Похоже, выбросы из предыдущей попытки образовали теперь самостоятельный кластер. Значит, такое min_samples слишком маленькое. Еще попытка с уменьшенным eps и старым min_samples:"
   ]
  },
  {
   "cell_type": "code",
   "execution_count": 10,
   "metadata": {},
   "outputs": [
    {
     "name": "stdout",
     "output_type": "stream",
     "text": [
      "[[ -1   6]\n",
      " [  0 110]\n",
      " [  1 104]\n",
      " [  2  61]\n",
      " [  3  57]]\n"
     ]
    }
   ],
   "source": [
    "dbscan_5 = DBSCAN(eps=1.9, metric='euclidean', min_samples=5)\n",
    "dbscan_5.fit(df)\n",
    "unique, counts = np.unique(dbscan_5.labels_, return_counts=True)\n",
    "print(np.asarray((unique, counts)).T)"
   ]
  },
  {
   "cell_type": "markdown",
   "metadata": {},
   "source": [
    "Здесь мало выбросов и кластеры достаточно большие для интерпретации. Значит, разумные результаты дали третья и пятая попытки. Сравним их с результатом для иерархического кластерного анализа."
   ]
  },
  {
   "cell_type": "markdown",
   "metadata": {},
   "source": [
    "В первой домашней работе уже получили, что данные стоит разбить на 4 кластера -- как и в dbscan_5. Проведем иерархический кластерный анализ и остановим его на 4-х кластерах:"
   ]
  },
  {
   "cell_type": "code",
   "execution_count": 11,
   "metadata": {},
   "outputs": [],
   "source": [
    "from scipy.cluster.hierarchy import linkage, fcluster\n",
    "link = linkage(df, 'ward', 'euclidean')\n",
    "df['cluster'] = fcluster(link, 4, criterion='maxclust')"
   ]
  },
  {
   "cell_type": "markdown",
   "metadata": {},
   "source": [
    "Сравним результат иерархического анализа с dbscan_3:"
   ]
  },
  {
   "cell_type": "code",
   "execution_count": 12,
   "metadata": {},
   "outputs": [
    {
     "data": {
      "text/html": [
       "<div>\n",
       "<style scoped>\n",
       "    .dataframe tbody tr th:only-of-type {\n",
       "        vertical-align: middle;\n",
       "    }\n",
       "\n",
       "    .dataframe tbody tr th {\n",
       "        vertical-align: top;\n",
       "    }\n",
       "\n",
       "    .dataframe thead th {\n",
       "        text-align: right;\n",
       "    }\n",
       "</style>\n",
       "<table border=\"1\" class=\"dataframe\">\n",
       "  <thead>\n",
       "    <tr style=\"text-align: right;\">\n",
       "      <th>cluster</th>\n",
       "      <th>1</th>\n",
       "      <th>2</th>\n",
       "      <th>3</th>\n",
       "      <th>4</th>\n",
       "    </tr>\n",
       "    <tr>\n",
       "      <th>row_0</th>\n",
       "      <th></th>\n",
       "      <th></th>\n",
       "      <th></th>\n",
       "      <th></th>\n",
       "    </tr>\n",
       "  </thead>\n",
       "  <tbody>\n",
       "    <tr>\n",
       "      <th>-1</th>\n",
       "      <td>4</td>\n",
       "      <td>0</td>\n",
       "      <td>0</td>\n",
       "      <td>0</td>\n",
       "    </tr>\n",
       "    <tr>\n",
       "      <th>0</th>\n",
       "      <td>0</td>\n",
       "      <td>110</td>\n",
       "      <td>0</td>\n",
       "      <td>0</td>\n",
       "    </tr>\n",
       "    <tr>\n",
       "      <th>1</th>\n",
       "      <td>104</td>\n",
       "      <td>0</td>\n",
       "      <td>0</td>\n",
       "      <td>0</td>\n",
       "    </tr>\n",
       "    <tr>\n",
       "      <th>2</th>\n",
       "      <td>0</td>\n",
       "      <td>0</td>\n",
       "      <td>59</td>\n",
       "      <td>61</td>\n",
       "    </tr>\n",
       "  </tbody>\n",
       "</table>\n",
       "</div>"
      ],
      "text/plain": [
       "cluster    1    2   3   4\n",
       "row_0                    \n",
       "-1         4    0   0   0\n",
       " 0         0  110   0   0\n",
       " 1       104    0   0   0\n",
       " 2         0    0  59  61"
      ]
     },
     "execution_count": 12,
     "metadata": {},
     "output_type": "execute_result"
    }
   ],
   "source": [
    "pd.crosstab(dbscan_3.labels_, df['cluster'])"
   ]
  },
  {
   "cell_type": "markdown",
   "metadata": {},
   "source": [
    "Из таблицы видно, что DBSCAN объединил во втором кластере 3-й и 4-й кластеры иерархического анализа. Теперь сравним с dbscan_5:"
   ]
  },
  {
   "cell_type": "code",
   "execution_count": 13,
   "metadata": {},
   "outputs": [
    {
     "data": {
      "text/html": [
       "<div>\n",
       "<style scoped>\n",
       "    .dataframe tbody tr th:only-of-type {\n",
       "        vertical-align: middle;\n",
       "    }\n",
       "\n",
       "    .dataframe tbody tr th {\n",
       "        vertical-align: top;\n",
       "    }\n",
       "\n",
       "    .dataframe thead th {\n",
       "        text-align: right;\n",
       "    }\n",
       "</style>\n",
       "<table border=\"1\" class=\"dataframe\">\n",
       "  <thead>\n",
       "    <tr style=\"text-align: right;\">\n",
       "      <th>cluster</th>\n",
       "      <th>1</th>\n",
       "      <th>2</th>\n",
       "      <th>3</th>\n",
       "      <th>4</th>\n",
       "    </tr>\n",
       "    <tr>\n",
       "      <th>row_0</th>\n",
       "      <th></th>\n",
       "      <th></th>\n",
       "      <th></th>\n",
       "      <th></th>\n",
       "    </tr>\n",
       "  </thead>\n",
       "  <tbody>\n",
       "    <tr>\n",
       "      <th>-1</th>\n",
       "      <td>4</td>\n",
       "      <td>0</td>\n",
       "      <td>2</td>\n",
       "      <td>0</td>\n",
       "    </tr>\n",
       "    <tr>\n",
       "      <th>0</th>\n",
       "      <td>0</td>\n",
       "      <td>110</td>\n",
       "      <td>0</td>\n",
       "      <td>0</td>\n",
       "    </tr>\n",
       "    <tr>\n",
       "      <th>1</th>\n",
       "      <td>104</td>\n",
       "      <td>0</td>\n",
       "      <td>0</td>\n",
       "      <td>0</td>\n",
       "    </tr>\n",
       "    <tr>\n",
       "      <th>2</th>\n",
       "      <td>0</td>\n",
       "      <td>0</td>\n",
       "      <td>0</td>\n",
       "      <td>61</td>\n",
       "    </tr>\n",
       "    <tr>\n",
       "      <th>3</th>\n",
       "      <td>0</td>\n",
       "      <td>0</td>\n",
       "      <td>57</td>\n",
       "      <td>0</td>\n",
       "    </tr>\n",
       "  </tbody>\n",
       "</table>\n",
       "</div>"
      ],
      "text/plain": [
       "cluster    1    2   3   4\n",
       "row_0                    \n",
       "-1         4    0   2   0\n",
       " 0         0  110   0   0\n",
       " 1       104    0   0   0\n",
       " 2         0    0   0  61\n",
       " 3         0    0  57   0"
      ]
     },
     "execution_count": 13,
     "metadata": {},
     "output_type": "execute_result"
    }
   ],
   "source": [
    "pd.crosstab(dbscan_5.labels_, df['cluster'])"
   ]
  },
  {
   "cell_type": "markdown",
   "metadata": {},
   "source": [
    "Эти результаты уже почти не отличаются. Единственное отличие -- DBSCAN выделил 4 выброса, котрые иерархический анализ определил в первый кластер."
   ]
  },
  {
   "cell_type": "markdown",
   "metadata": {},
   "source": [
    "Таким образом, dbscan_5 дает хорошую кластеризацию. Посмотрим на средние по кластерам в dbscan_5 и интерпретируем результат:"
   ]
  },
  {
   "cell_type": "code",
   "execution_count": 14,
   "metadata": {},
   "outputs": [
    {
     "data": {
      "text/html": [
       "<div>\n",
       "<style scoped>\n",
       "    .dataframe tbody tr th:only-of-type {\n",
       "        vertical-align: middle;\n",
       "    }\n",
       "\n",
       "    .dataframe tbody tr th {\n",
       "        vertical-align: top;\n",
       "    }\n",
       "\n",
       "    .dataframe thead th {\n",
       "        text-align: right;\n",
       "    }\n",
       "</style>\n",
       "<table border=\"1\" class=\"dataframe\">\n",
       "  <thead>\n",
       "    <tr style=\"text-align: right;\">\n",
       "      <th></th>\n",
       "      <th>V1</th>\n",
       "      <th>V2</th>\n",
       "      <th>V3</th>\n",
       "      <th>V4</th>\n",
       "      <th>V5</th>\n",
       "      <th>V6</th>\n",
       "      <th>V7</th>\n",
       "      <th>V8</th>\n",
       "      <th>V9</th>\n",
       "      <th>V10</th>\n",
       "      <th>V11</th>\n",
       "    </tr>\n",
       "    <tr>\n",
       "      <th>dbscan</th>\n",
       "      <th></th>\n",
       "      <th></th>\n",
       "      <th></th>\n",
       "      <th></th>\n",
       "      <th></th>\n",
       "      <th></th>\n",
       "      <th></th>\n",
       "      <th></th>\n",
       "      <th></th>\n",
       "      <th></th>\n",
       "      <th></th>\n",
       "    </tr>\n",
       "  </thead>\n",
       "  <tbody>\n",
       "    <tr>\n",
       "      <th>-1</th>\n",
       "      <td>2.333333</td>\n",
       "      <td>3.333333</td>\n",
       "      <td>3.333333</td>\n",
       "      <td>3.333333</td>\n",
       "      <td>2.000000</td>\n",
       "      <td>2.333333</td>\n",
       "      <td>3.000000</td>\n",
       "      <td>3.666667</td>\n",
       "      <td>4.333333</td>\n",
       "      <td>4.166667</td>\n",
       "      <td>4.166667</td>\n",
       "    </tr>\n",
       "    <tr>\n",
       "      <th>0</th>\n",
       "      <td>4.845455</td>\n",
       "      <td>4.800000</td>\n",
       "      <td>4.836364</td>\n",
       "      <td>4.681818</td>\n",
       "      <td>3.036364</td>\n",
       "      <td>3.036364</td>\n",
       "      <td>3.000000</td>\n",
       "      <td>2.990909</td>\n",
       "      <td>3.072727</td>\n",
       "      <td>3.045455</td>\n",
       "      <td>3.045455</td>\n",
       "    </tr>\n",
       "    <tr>\n",
       "      <th>1</th>\n",
       "      <td>2.855769</td>\n",
       "      <td>2.788462</td>\n",
       "      <td>2.721154</td>\n",
       "      <td>2.567308</td>\n",
       "      <td>2.634615</td>\n",
       "      <td>2.605769</td>\n",
       "      <td>2.778846</td>\n",
       "      <td>2.913462</td>\n",
       "      <td>4.951923</td>\n",
       "      <td>4.817308</td>\n",
       "      <td>4.865385</td>\n",
       "    </tr>\n",
       "    <tr>\n",
       "      <th>2</th>\n",
       "      <td>3.000000</td>\n",
       "      <td>3.000000</td>\n",
       "      <td>3.000000</td>\n",
       "      <td>3.000000</td>\n",
       "      <td>4.852459</td>\n",
       "      <td>4.852459</td>\n",
       "      <td>3.000000</td>\n",
       "      <td>2.918033</td>\n",
       "      <td>2.754098</td>\n",
       "      <td>2.754098</td>\n",
       "      <td>2.754098</td>\n",
       "    </tr>\n",
       "    <tr>\n",
       "      <th>3</th>\n",
       "      <td>3.000000</td>\n",
       "      <td>3.000000</td>\n",
       "      <td>3.000000</td>\n",
       "      <td>2.947368</td>\n",
       "      <td>2.947368</td>\n",
       "      <td>2.947368</td>\n",
       "      <td>4.912281</td>\n",
       "      <td>4.912281</td>\n",
       "      <td>3.000000</td>\n",
       "      <td>3.000000</td>\n",
       "      <td>3.000000</td>\n",
       "    </tr>\n",
       "  </tbody>\n",
       "</table>\n",
       "</div>"
      ],
      "text/plain": [
       "              V1        V2        V3        V4        V5        V6        V7  \\\n",
       "dbscan                                                                         \n",
       "-1      2.333333  3.333333  3.333333  3.333333  2.000000  2.333333  3.000000   \n",
       " 0      4.845455  4.800000  4.836364  4.681818  3.036364  3.036364  3.000000   \n",
       " 1      2.855769  2.788462  2.721154  2.567308  2.634615  2.605769  2.778846   \n",
       " 2      3.000000  3.000000  3.000000  3.000000  4.852459  4.852459  3.000000   \n",
       " 3      3.000000  3.000000  3.000000  2.947368  2.947368  2.947368  4.912281   \n",
       "\n",
       "              V8        V9       V10       V11  \n",
       "dbscan                                          \n",
       "-1      3.666667  4.333333  4.166667  4.166667  \n",
       " 0      2.990909  3.072727  3.045455  3.045455  \n",
       " 1      2.913462  4.951923  4.817308  4.865385  \n",
       " 2      2.918033  2.754098  2.754098  2.754098  \n",
       " 3      4.912281  3.000000  3.000000  3.000000  "
      ]
     },
     "execution_count": 14,
     "metadata": {},
     "output_type": "execute_result"
    }
   ],
   "source": [
    "#убираем из df столбец 'cluster'\n",
    "del df['cluster']\n",
    "\n",
    "#добавляем столбец с номерами кластеров, полученными с помощью DBSCAN\n",
    "df['dbscan'] = dbscan_5.labels_\n",
    "\n",
    "#смотрм на средние по кластерам\n",
    "df.groupby('dbscan').mean()"
   ]
  },
  {
   "cell_type": "markdown",
   "metadata": {},
   "source": [
    "В нулевойй кластер попадают люди, которые едят леденцы в медецинских целях.\n",
    "\n",
    "Во первый, те, кто страдает от запаха изо рта.\n",
    "\n",
    "В второй, те, кто едят их для повышения концентрации.\n",
    "\n",
    "В третий, те, кто любят сладости."
   ]
  }
 ],
 "metadata": {
  "kernelspec": {
   "display_name": "Python 3",
   "language": "python",
   "name": "python3"
  },
  "language_info": {
   "codemirror_mode": {
    "name": "ipython",
    "version": 3
   },
   "file_extension": ".py",
   "mimetype": "text/x-python",
   "name": "python",
   "nbconvert_exporter": "python",
   "pygments_lexer": "ipython3",
   "version": "3.8.8"
  }
 },
 "nbformat": 4,
 "nbformat_minor": 4
}
