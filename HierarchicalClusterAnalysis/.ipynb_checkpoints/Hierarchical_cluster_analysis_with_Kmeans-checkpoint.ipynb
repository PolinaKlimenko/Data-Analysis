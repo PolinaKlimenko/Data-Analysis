{
 "cells": [
  {
   "cell_type": "code",
   "execution_count": 1,
   "metadata": {},
   "outputs": [],
   "source": [
    "import pandas as pd\n",
    "import matplotlib\n",
    "import matplotlib.pyplot as plt\n",
    "matplotlib.style.use('ggplot')\n",
    "%matplotlib inline\n",
    "\n",
    "import os"
   ]
  },
  {
   "cell_type": "code",
   "execution_count": 2,
   "metadata": {},
   "outputs": [],
   "source": [
    "df = pd.read_csv(\"Леденцы.dat\", sep=\";\")"
   ]
  },
  {
   "cell_type": "code",
   "execution_count": 3,
   "metadata": {},
   "outputs": [
    {
     "name": "stdout",
     "output_type": "stream",
     "text": [
      "     V1  V2  V3  V4  V5  V6  V7  V8  V9  V10  V11\n",
      "0     4   5   5   5   3   3   3   3   3    3    3\n",
      "1     5   4   5   5   3   3   3   3   3    3    3\n",
      "2     5   5   4   5   3   3   3   3   3    3    3\n",
      "3     5   4   5   5   3   3   3   3   3    3    3\n",
      "4     4   5   5   5   3   3   3   3   3    3    3\n",
      "..   ..  ..  ..  ..  ..  ..  ..  ..  ..  ...  ...\n",
      "333   3   3   3   3   3   3   5   5   3    3    3\n",
      "334   3   3   3   3   3   3   5   5   3    3    3\n",
      "335   3   3   3   3   3   3   5   5   3    3    3\n",
      "336   3   3   3   3   3   3   5   5   3    3    3\n",
      "337   3   3   3   3   3   3   5   5   3    3    3\n",
      "\n",
      "[338 rows x 11 columns]\n"
     ]
    }
   ],
   "source": [
    "print(df)"
   ]
  },
  {
   "cell_type": "markdown",
   "metadata": {},
   "source": [
    "Данные равнозначны, поэтому нормализовать не надо."
   ]
  },
  {
   "cell_type": "markdown",
   "metadata": {},
   "source": [
    "Построим каменистую осыпь, чтобы определить количество кластеров."
   ]
  },
  {
   "cell_type": "code",
   "execution_count": 4,
   "metadata": {},
   "outputs": [],
   "source": [
    "from sklearn.cluster import KMeans"
   ]
  },
  {
   "cell_type": "code",
   "execution_count": 5,
   "metadata": {},
   "outputs": [
    {
     "name": "stderr",
     "output_type": "stream",
     "text": [
      "C:\\Users\\HP\\anaconda3\\lib\\site-packages\\sklearn\\cluster\\_kmeans.py:881: UserWarning: KMeans is known to have a memory leak on Windows with MKL, when there are less chunks than available threads. You can avoid it by setting the environment variable OMP_NUM_THREADS=2.\n",
      "  warnings.warn(\n"
     ]
    },
    {
     "data": {
      "image/png": "[encoded data removed]",
      "text/plain": [
       "<Figure size 432x288 with 1 Axes>"
      ]
     },
     "metadata": {
      "needs_background": "light"
     },
     "output_type": "display_data"
    }
   ],
   "source": [
    "K = range(1, 11)\n",
    "models = [KMeans(n_clusters=k, random_state=42).fit(df) for k in K]\n",
    "dist = [model.inertia_ for model in models]\n",
    "\n",
    "# Plot the elbow\n",
    "plt.plot(K, dist, marker='o')\n",
    "plt.xlabel('k')\n",
    "plt.ylabel('Sum of distances')\n",
    "plt.title('The Elbow Method showing the optimal k')\n",
    "plt.show()"
   ]
  },
  {
   "cell_type": "markdown",
   "metadata": {},
   "source": [
    "Заметим, что излом наблюдается,когда k = 4. Посмотрим на результаты кластеризации, когда количество кластеров 4."
   ]
  },
  {
   "cell_type": "code",
   "execution_count": 6,
   "metadata": {},
   "outputs": [
    {
     "data": {
      "text/html": [
       "<div>\n",
       "<style scoped>\n",
       "    .dataframe tbody tr th:only-of-type {\n",
       "        vertical-align: middle;\n",
       "    }\n",
       "\n",
       "    .dataframe tbody tr th {\n",
       "        vertical-align: top;\n",
       "    }\n",
       "\n",
       "    .dataframe thead th {\n",
       "        text-align: right;\n",
       "    }\n",
       "</style>\n",
       "<table border=\"1\" class=\"dataframe\">\n",
       "  <thead>\n",
       "    <tr style=\"text-align: right;\">\n",
       "      <th></th>\n",
       "      <th>V1</th>\n",
       "      <th>V2</th>\n",
       "      <th>V3</th>\n",
       "      <th>V4</th>\n",
       "      <th>V5</th>\n",
       "      <th>V6</th>\n",
       "      <th>V7</th>\n",
       "      <th>V8</th>\n",
       "      <th>V9</th>\n",
       "      <th>V10</th>\n",
       "      <th>V11</th>\n",
       "    </tr>\n",
       "    <tr>\n",
       "      <th>cluster</th>\n",
       "      <th></th>\n",
       "      <th></th>\n",
       "      <th></th>\n",
       "      <th></th>\n",
       "      <th></th>\n",
       "      <th></th>\n",
       "      <th></th>\n",
       "      <th></th>\n",
       "      <th></th>\n",
       "      <th></th>\n",
       "      <th></th>\n",
       "    </tr>\n",
       "  </thead>\n",
       "  <tbody>\n",
       "    <tr>\n",
       "      <th>0</th>\n",
       "      <td>4.845455</td>\n",
       "      <td>4.800000</td>\n",
       "      <td>4.836364</td>\n",
       "      <td>4.681818</td>\n",
       "      <td>3.036364</td>\n",
       "      <td>3.036364</td>\n",
       "      <td>3.000000</td>\n",
       "      <td>2.990909</td>\n",
       "      <td>3.072727</td>\n",
       "      <td>3.045455</td>\n",
       "      <td>3.045455</td>\n",
       "    </tr>\n",
       "    <tr>\n",
       "      <th>1</th>\n",
       "      <td>2.824074</td>\n",
       "      <td>2.833333</td>\n",
       "      <td>2.768519</td>\n",
       "      <td>2.620370</td>\n",
       "      <td>2.611111</td>\n",
       "      <td>2.583333</td>\n",
       "      <td>2.750000</td>\n",
       "      <td>2.916667</td>\n",
       "      <td>4.953704</td>\n",
       "      <td>4.814815</td>\n",
       "      <td>4.861111</td>\n",
       "    </tr>\n",
       "    <tr>\n",
       "      <th>2</th>\n",
       "      <td>3.000000</td>\n",
       "      <td>2.966102</td>\n",
       "      <td>2.966102</td>\n",
       "      <td>2.915254</td>\n",
       "      <td>2.915254</td>\n",
       "      <td>2.949153</td>\n",
       "      <td>4.915254</td>\n",
       "      <td>4.915254</td>\n",
       "      <td>3.000000</td>\n",
       "      <td>3.000000</td>\n",
       "      <td>3.000000</td>\n",
       "    </tr>\n",
       "    <tr>\n",
       "      <th>3</th>\n",
       "      <td>3.000000</td>\n",
       "      <td>3.000000</td>\n",
       "      <td>3.000000</td>\n",
       "      <td>3.000000</td>\n",
       "      <td>4.852459</td>\n",
       "      <td>4.852459</td>\n",
       "      <td>3.000000</td>\n",
       "      <td>2.918033</td>\n",
       "      <td>2.754098</td>\n",
       "      <td>2.754098</td>\n",
       "      <td>2.754098</td>\n",
       "    </tr>\n",
       "  </tbody>\n",
       "</table>\n",
       "</div>"
      ],
      "text/plain": [
       "               V1        V2        V3        V4        V5        V6        V7  \\\n",
       "cluster                                                                         \n",
       "0        4.845455  4.800000  4.836364  4.681818  3.036364  3.036364  3.000000   \n",
       "1        2.824074  2.833333  2.768519  2.620370  2.611111  2.583333  2.750000   \n",
       "2        3.000000  2.966102  2.966102  2.915254  2.915254  2.949153  4.915254   \n",
       "3        3.000000  3.000000  3.000000  3.000000  4.852459  4.852459  3.000000   \n",
       "\n",
       "               V8        V9       V10       V11  \n",
       "cluster                                          \n",
       "0        2.990909  3.072727  3.045455  3.045455  \n",
       "1        2.916667  4.953704  4.814815  4.861111  \n",
       "2        4.915254  3.000000  3.000000  3.000000  \n",
       "3        2.918033  2.754098  2.754098  2.754098  "
      ]
     },
     "execution_count": 6,
     "metadata": {},
     "output_type": "execute_result"
    }
   ],
   "source": [
    "model = KMeans(n_clusters=4, random_state=42)\n",
    "model.fit(df)\n",
    "df['cluster'] = model.labels_\n",
    "df.groupby('cluster').mean()"
   ]
  },
  {
   "cell_type": "markdown",
   "metadata": {},
   "source": [
    "Проверим, что в каждом кластере дастаточное число наблюдений, чтобы можно было интерпретировать результат."
   ]
  },
  {
   "cell_type": "code",
   "execution_count": 7,
   "metadata": {},
   "outputs": [
    {
     "data": {
      "text/plain": [
       "cluster\n",
       "0    110\n",
       "1    108\n",
       "2     59\n",
       "3     61\n",
       "dtype: int64"
      ]
     },
     "execution_count": 7,
     "metadata": {},
     "output_type": "execute_result"
    }
   ],
   "source": [
    "df.groupby('cluster').size()"
   ]
  },
  {
   "cell_type": "markdown",
   "metadata": {},
   "source": [
    "Действительно, результат можно интерпретировать."
   ]
  },
  {
   "cell_type": "markdown",
   "metadata": {},
   "source": [
    "В первый кластер попадают люди, которые едят леденцы в медецинских целях."
   ]
  },
  {
   "cell_type": "markdown",
   "metadata": {},
   "source": [
    "Во второй, те, кто страдает от запаха изо рта."
   ]
  },
  {
   "cell_type": "markdown",
   "metadata": {},
   "source": [
    "В третий, те, кто едят их для повышения концентрации."
   ]
  },
  {
   "cell_type": "markdown",
   "metadata": {},
   "source": [
    "В четвертый, те, кто любят сладости."
   ]
  }
 ],
 "metadata": {
  "kernelspec": {
   "display_name": "Python 3",
   "language": "python",
   "name": "python3"
  },
  "language_info": {
   "codemirror_mode": {
    "name": "ipython",
    "version": 3
   },
   "file_extension": ".py",
   "mimetype": "text/x-python",
   "name": "python",
   "nbconvert_exporter": "python",
   "pygments_lexer": "ipython3",
   "version": "3.8.8"
  }
 },
 "nbformat": 4,
 "nbformat_minor": 4
}
