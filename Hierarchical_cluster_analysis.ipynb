{
 "cells": [
  {
   "cell_type": "markdown",
   "metadata": {},
   "source": [
    "# Иерархический кластерный анализ"
   ]
  },
  {
   "cell_type": "markdown",
   "metadata": {},
   "source": [
    "Определить число кластеров и обосновать свой выбор.\n",
    "\n",
    "Разбить объекты на кластеры. Предложить и обосновать интерпретацию кластеров.\n"
   ]
  },
  {
   "cell_type": "code",
   "execution_count": 64,
   "metadata": {},
   "outputs": [],
   "source": [
    "import numpy as np\n",
    "import pandas as pd\n",
    "\n",
    "import matplotlib\n",
    "import matplotlib.pyplot as plt\n",
    "matplotlib.style.use('ggplot')\n",
    "%matplotlib inline\n",
    "\n",
    "import os\n"
   ]
  },
  {
   "cell_type": "code",
   "execution_count": 65,
   "metadata": {
    "scrolled": true
   },
   "outputs": [],
   "source": [
    "os.chdir(\"C:\\\\Users\\\\Админ\\\\Lect_04\\\\задача_1_леденцы\")"
   ]
  },
  {
   "cell_type": "code",
   "execution_count": 66,
   "metadata": {},
   "outputs": [],
   "source": [
    "df = pd.read_csv(\"Леденцы.dat\", sep=\";\")"
   ]
  },
  {
   "cell_type": "markdown",
   "metadata": {},
   "source": [
    "Выведем на экран:\n"
   ]
  },
  {
   "cell_type": "code",
   "execution_count": 67,
   "metadata": {},
   "outputs": [
    {
     "name": "stdout",
     "output_type": "stream",
     "text": [
      "     V1  V2  V3  V4  V5  V6  V7  V8  V9  V10  V11\n",
      "0     4   5   5   5   3   3   3   3   3    3    3\n",
      "1     5   4   5   5   3   3   3   3   3    3    3\n",
      "2     5   5   4   5   3   3   3   3   3    3    3\n",
      "3     5   4   5   5   3   3   3   3   3    3    3\n",
      "4     4   5   5   5   3   3   3   3   3    3    3\n",
      "..   ..  ..  ..  ..  ..  ..  ..  ..  ..  ...  ...\n",
      "333   3   3   3   3   3   3   5   5   3    3    3\n",
      "334   3   3   3   3   3   3   5   5   3    3    3\n",
      "335   3   3   3   3   3   3   5   5   3    3    3\n",
      "336   3   3   3   3   3   3   5   5   3    3    3\n",
      "337   3   3   3   3   3   3   5   5   3    3    3\n",
      "\n",
      "[338 rows x 11 columns]\n"
     ]
    }
   ],
   "source": [
    "print(df)"
   ]
  },
  {
   "cell_type": "markdown",
   "metadata": {},
   "source": [
    "Данные равнозначны, поэтому нормализовать не надо."
   ]
  },
  {
   "cell_type": "markdown",
   "metadata": {},
   "source": [
    "Сначала воспользуемся методом Варда:"
   ]
  },
  {
   "cell_type": "code",
   "execution_count": 68,
   "metadata": {},
   "outputs": [],
   "source": [
    "from scipy.cluster.hierarchy import dendrogram, linkage, fcluster\n"
   ]
  },
  {
   "cell_type": "code",
   "execution_count": 69,
   "metadata": {},
   "outputs": [],
   "source": [
    "link = linkage(df, 'ward', 'euclidean')"
   ]
  },
  {
   "cell_type": "code",
   "execution_count": 70,
   "metadata": {},
   "outputs": [
    {
     "data": {
      "image/png": "[encoded data removed]",
      "text/plain": [
       "<Figure size 648x648 with 1 Axes>"
      ]
     },
     "metadata": {
      "needs_background": "light"
     },
     "output_type": "display_data"
    }
   ],
   "source": [
    "fig = plt.figure(figsize=(9,9))\n",
    "\n",
    "# строим соответствующую дендрограмму\n",
    "dn = dendrogram(link, color_threshold = -1, no_labels = True) "
   ]
  },
  {
   "cell_type": "markdown",
   "metadata": {},
   "source": [
    "Явный скачок на уровне примерно двадцати. Тут получается 4 кластера. Однако если разрезать на 12-ти, то получится 5 кластеров."
   ]
  },
  {
   "cell_type": "markdown",
   "metadata": {},
   "source": [
    "Давайте сначала разделим на 4 кластера.\n"
   ]
  },
  {
   "cell_type": "markdown",
   "metadata": {},
   "source": [
    "Воспользуемся каменистой осыпью, чтобы понять, какое разбиение на кластеры имеет смысл."
   ]
  },
  {
   "cell_type": "code",
   "execution_count": 72,
   "metadata": {},
   "outputs": [
    {
     "data": {
      "text/plain": [
       "Text(310, 12.5, '5 clusters')"
      ]
     },
     "execution_count": 72,
     "metadata": {},
     "output_type": "execute_result"
    },
    {
     "data": {
      "image/png": "[encoded data removed]",
      "text/plain": [
       "<Figure size 432x288 with 1 Axes>"
      ]
     },
     "metadata": {
      "needs_background": "light"
     },
     "output_type": "display_data"
    }
   ],
   "source": [
    "dist = link[300:, 2]\n",
    "dist_rev = dist[::]\n",
    "idxs = range(300, len(dist) + 300)\n",
    "plt.plot(idxs, dist_rev, marker = 'o')\n",
    "plt.xlabel('Step')\n",
    "plt.ylabel('Distance')\n",
    "\n",
    "plt.axhline(17, c = 'k', linestyle = 'dashed')\n",
    "plt.text(305, 18, '4 clusters')\n",
    "\n",
    "plt.axhline(11.5, c = 'k', linestyle = 'dashed')\n",
    "plt.text(310, 12.5, '5 clusters')"
   ]
  },
  {
   "cell_type": "markdown",
   "metadata": {},
   "source": [
    "Получили что на момент пяти кластеров, излом получается не очень сильным."
   ]
  },
  {
   "cell_type": "markdown",
   "metadata": {},
   "source": [
    "Разберем случай 4 кластеров"
   ]
  },
  {
   "cell_type": "code",
   "execution_count": 73,
   "metadata": {},
   "outputs": [
    {
     "data": {
      "image/png": "[encoded data removed]",
      "text/plain": [
       "<Figure size 648x648 with 1 Axes>"
      ]
     },
     "metadata": {
      "needs_background": "light"
     },
     "output_type": "display_data"
    }
   ],
   "source": [
    "# разрезаем на высоте 20 -- 4 кластера\n",
    "\n",
    "fig = plt.figure(figsize=(9,9))\n",
    "dn = dendrogram(link, color_threshold = 20,no_labels = True)"
   ]
  },
  {
   "cell_type": "code",
   "execution_count": 74,
   "metadata": {},
   "outputs": [],
   "source": [
    "#  Добавляем столбец cluster к таблице данных\n",
    "df['cluster'] = fcluster(link, 4, criterion='maxclust')"
   ]
  },
  {
   "cell_type": "code",
   "execution_count": 75,
   "metadata": {},
   "outputs": [
    {
     "data": {
      "text/plain": [
       "cluster\n",
       "1    108\n",
       "2    110\n",
       "3     59\n",
       "4     61\n",
       "dtype: int64"
      ]
     },
     "execution_count": 75,
     "metadata": {},
     "output_type": "execute_result"
    }
   ],
   "source": [
    "#Посчитаем, сколько элементов попало в каждый кластер\n",
    "df.groupby('cluster').size()"
   ]
  },
  {
   "cell_type": "markdown",
   "metadata": {},
   "source": [
    "В каждом кластере достаточно элементов, чтобы интерпретировать результат."
   ]
  },
  {
   "cell_type": "code",
   "execution_count": 76,
   "metadata": {},
   "outputs": [
    {
     "data": {
      "text/html": [
       "<div>\n",
       "<style scoped>\n",
       "    .dataframe tbody tr th:only-of-type {\n",
       "        vertical-align: middle;\n",
       "    }\n",
       "\n",
       "    .dataframe tbody tr th {\n",
       "        vertical-align: top;\n",
       "    }\n",
       "\n",
       "    .dataframe thead th {\n",
       "        text-align: right;\n",
       "    }\n",
       "</style>\n",
       "<table border=\"1\" class=\"dataframe\">\n",
       "  <thead>\n",
       "    <tr style=\"text-align: right;\">\n",
       "      <th></th>\n",
       "      <th>V1</th>\n",
       "      <th>V2</th>\n",
       "      <th>V3</th>\n",
       "      <th>V4</th>\n",
       "      <th>V5</th>\n",
       "      <th>V6</th>\n",
       "      <th>V7</th>\n",
       "      <th>V8</th>\n",
       "      <th>V9</th>\n",
       "      <th>V10</th>\n",
       "      <th>V11</th>\n",
       "    </tr>\n",
       "    <tr>\n",
       "      <th>cluster</th>\n",
       "      <th></th>\n",
       "      <th></th>\n",
       "      <th></th>\n",
       "      <th></th>\n",
       "      <th></th>\n",
       "      <th></th>\n",
       "      <th></th>\n",
       "      <th></th>\n",
       "      <th></th>\n",
       "      <th></th>\n",
       "      <th></th>\n",
       "    </tr>\n",
       "  </thead>\n",
       "  <tbody>\n",
       "    <tr>\n",
       "      <th>1</th>\n",
       "      <td>2.824074</td>\n",
       "      <td>2.833333</td>\n",
       "      <td>2.768519</td>\n",
       "      <td>2.620370</td>\n",
       "      <td>2.611111</td>\n",
       "      <td>2.583333</td>\n",
       "      <td>2.750000</td>\n",
       "      <td>2.916667</td>\n",
       "      <td>4.953704</td>\n",
       "      <td>4.814815</td>\n",
       "      <td>4.861111</td>\n",
       "    </tr>\n",
       "    <tr>\n",
       "      <th>2</th>\n",
       "      <td>4.845455</td>\n",
       "      <td>4.800000</td>\n",
       "      <td>4.836364</td>\n",
       "      <td>4.681818</td>\n",
       "      <td>3.036364</td>\n",
       "      <td>3.036364</td>\n",
       "      <td>3.000000</td>\n",
       "      <td>2.990909</td>\n",
       "      <td>3.072727</td>\n",
       "      <td>3.045455</td>\n",
       "      <td>3.045455</td>\n",
       "    </tr>\n",
       "    <tr>\n",
       "      <th>3</th>\n",
       "      <td>3.000000</td>\n",
       "      <td>2.966102</td>\n",
       "      <td>2.966102</td>\n",
       "      <td>2.915254</td>\n",
       "      <td>2.915254</td>\n",
       "      <td>2.949153</td>\n",
       "      <td>4.915254</td>\n",
       "      <td>4.915254</td>\n",
       "      <td>3.000000</td>\n",
       "      <td>3.000000</td>\n",
       "      <td>3.000000</td>\n",
       "    </tr>\n",
       "    <tr>\n",
       "      <th>4</th>\n",
       "      <td>3.000000</td>\n",
       "      <td>3.000000</td>\n",
       "      <td>3.000000</td>\n",
       "      <td>3.000000</td>\n",
       "      <td>4.852459</td>\n",
       "      <td>4.852459</td>\n",
       "      <td>3.000000</td>\n",
       "      <td>2.918033</td>\n",
       "      <td>2.754098</td>\n",
       "      <td>2.754098</td>\n",
       "      <td>2.754098</td>\n",
       "    </tr>\n",
       "  </tbody>\n",
       "</table>\n",
       "</div>"
      ],
      "text/plain": [
       "               V1        V2        V3        V4        V5        V6        V7  \\\n",
       "cluster                                                                         \n",
       "1        2.824074  2.833333  2.768519  2.620370  2.611111  2.583333  2.750000   \n",
       "2        4.845455  4.800000  4.836364  4.681818  3.036364  3.036364  3.000000   \n",
       "3        3.000000  2.966102  2.966102  2.915254  2.915254  2.949153  4.915254   \n",
       "4        3.000000  3.000000  3.000000  3.000000  4.852459  4.852459  3.000000   \n",
       "\n",
       "               V8        V9       V10       V11  \n",
       "cluster                                          \n",
       "1        2.916667  4.953704  4.814815  4.861111  \n",
       "2        2.990909  3.072727  3.045455  3.045455  \n",
       "3        4.915254  3.000000  3.000000  3.000000  \n",
       "4        2.918033  2.754098  2.754098  2.754098  "
      ]
     },
     "execution_count": 76,
     "metadata": {},
     "output_type": "execute_result"
    }
   ],
   "source": [
    "#  Средние значения характеристик в каждом кластере\n",
    "df.groupby('cluster').mean()"
   ]
  },
  {
   "cell_type": "markdown",
   "metadata": {},
   "source": [
    "Интерпретация:\n"
   ]
  },
  {
   "cell_type": "markdown",
   "metadata": {},
   "source": [
    "В первый кластер попадают люди, которые в основном пользуются леденцами для облегчения боли в горле, избавления заложенности носа и улучшения самочувствия. То есть в первый кластер попадают болезненные люди, которым нужны леденца в большей степени в медицинских целях.\n",
    "\n"
   ]
  },
  {
   "cell_type": "markdown",
   "metadata": {},
   "source": [
    "Во второй кластер попадают люди, которые используют леденцы в случаях V1-V4, то есть для освежения дыхания и поднятия самооценки \n"
   ]
  },
  {
   "cell_type": "markdown",
   "metadata": {},
   "source": [
    "В третьем кластере люди, которым нужны леденцы для концентрации и чтобы отвлечься и подумать. Возможно у них нервная работа и проблема с мотивацией.\n"
   ]
  },
  {
   "cell_type": "markdown",
   "metadata": {},
   "source": [
    "В четвертом кластере находятся сладкоежки."
   ]
  },
  {
   "cell_type": "markdown",
   "metadata": {},
   "source": [
    "Если разбивать на 5 кластеров:"
   ]
  },
  {
   "cell_type": "code",
   "execution_count": 77,
   "metadata": {},
   "outputs": [
    {
     "data": {
      "image/png": "[encoded data removed]",
      "text/plain": [
       "<Figure size 648x648 with 1 Axes>"
      ]
     },
     "metadata": {
      "needs_background": "light"
     },
     "output_type": "display_data"
    }
   ],
   "source": [
    "# разрезаем на высоте 12 -- 5 кластеров\n",
    "\n",
    "fig = plt.figure(figsize=(9,9))\n",
    "dn = dendrogram(link, color_threshold = 12,no_labels = True)"
   ]
  },
  {
   "cell_type": "code",
   "execution_count": 78,
   "metadata": {},
   "outputs": [],
   "source": [
    "#  Добавляем столбец cluster к таблице данных\n",
    "df['cluster'] = fcluster(link, 5, criterion='maxclust')"
   ]
  },
  {
   "cell_type": "code",
   "execution_count": 80,
   "metadata": {},
   "outputs": [
    {
     "data": {
      "text/plain": [
       "cluster\n",
       "1     59\n",
       "2     49\n",
       "3    110\n",
       "4     59\n",
       "5     61\n",
       "dtype: int64"
      ]
     },
     "execution_count": 80,
     "metadata": {},
     "output_type": "execute_result"
    }
   ],
   "source": [
    "#Посчитаем, сколько элементов попало в каждый кластер\n",
    "df.groupby('cluster').size()"
   ]
  },
  {
   "cell_type": "markdown",
   "metadata": {},
   "source": [
    "В каждом кластере достаточно элементов."
   ]
  },
  {
   "cell_type": "code",
   "execution_count": 81,
   "metadata": {},
   "outputs": [
    {
     "data": {
      "text/html": [
       "<div>\n",
       "<style scoped>\n",
       "    .dataframe tbody tr th:only-of-type {\n",
       "        vertical-align: middle;\n",
       "    }\n",
       "\n",
       "    .dataframe tbody tr th {\n",
       "        vertical-align: top;\n",
       "    }\n",
       "\n",
       "    .dataframe thead th {\n",
       "        text-align: right;\n",
       "    }\n",
       "</style>\n",
       "<table border=\"1\" class=\"dataframe\">\n",
       "  <thead>\n",
       "    <tr style=\"text-align: right;\">\n",
       "      <th></th>\n",
       "      <th>V1</th>\n",
       "      <th>V2</th>\n",
       "      <th>V3</th>\n",
       "      <th>V4</th>\n",
       "      <th>V5</th>\n",
       "      <th>V6</th>\n",
       "      <th>V7</th>\n",
       "      <th>V8</th>\n",
       "      <th>V9</th>\n",
       "      <th>V10</th>\n",
       "      <th>V11</th>\n",
       "    </tr>\n",
       "    <tr>\n",
       "      <th>cluster</th>\n",
       "      <th></th>\n",
       "      <th></th>\n",
       "      <th></th>\n",
       "      <th></th>\n",
       "      <th></th>\n",
       "      <th></th>\n",
       "      <th></th>\n",
       "      <th></th>\n",
       "      <th></th>\n",
       "      <th></th>\n",
       "      <th></th>\n",
       "    </tr>\n",
       "  </thead>\n",
       "  <tbody>\n",
       "    <tr>\n",
       "      <th>1</th>\n",
       "      <td>3.000000</td>\n",
       "      <td>3.000000</td>\n",
       "      <td>3.000000</td>\n",
       "      <td>3.000000</td>\n",
       "      <td>3.000000</td>\n",
       "      <td>3.000000</td>\n",
       "      <td>3.000000</td>\n",
       "      <td>3.000000</td>\n",
       "      <td>4.932203</td>\n",
       "      <td>4.830508</td>\n",
       "      <td>4.898305</td>\n",
       "    </tr>\n",
       "    <tr>\n",
       "      <th>2</th>\n",
       "      <td>2.612245</td>\n",
       "      <td>2.632653</td>\n",
       "      <td>2.489796</td>\n",
       "      <td>2.163265</td>\n",
       "      <td>2.142857</td>\n",
       "      <td>2.081633</td>\n",
       "      <td>2.448980</td>\n",
       "      <td>2.816327</td>\n",
       "      <td>4.979592</td>\n",
       "      <td>4.795918</td>\n",
       "      <td>4.816327</td>\n",
       "    </tr>\n",
       "    <tr>\n",
       "      <th>3</th>\n",
       "      <td>4.845455</td>\n",
       "      <td>4.800000</td>\n",
       "      <td>4.836364</td>\n",
       "      <td>4.681818</td>\n",
       "      <td>3.036364</td>\n",
       "      <td>3.036364</td>\n",
       "      <td>3.000000</td>\n",
       "      <td>2.990909</td>\n",
       "      <td>3.072727</td>\n",
       "      <td>3.045455</td>\n",
       "      <td>3.045455</td>\n",
       "    </tr>\n",
       "    <tr>\n",
       "      <th>4</th>\n",
       "      <td>3.000000</td>\n",
       "      <td>2.966102</td>\n",
       "      <td>2.966102</td>\n",
       "      <td>2.915254</td>\n",
       "      <td>2.915254</td>\n",
       "      <td>2.949153</td>\n",
       "      <td>4.915254</td>\n",
       "      <td>4.915254</td>\n",
       "      <td>3.000000</td>\n",
       "      <td>3.000000</td>\n",
       "      <td>3.000000</td>\n",
       "    </tr>\n",
       "    <tr>\n",
       "      <th>5</th>\n",
       "      <td>3.000000</td>\n",
       "      <td>3.000000</td>\n",
       "      <td>3.000000</td>\n",
       "      <td>3.000000</td>\n",
       "      <td>4.852459</td>\n",
       "      <td>4.852459</td>\n",
       "      <td>3.000000</td>\n",
       "      <td>2.918033</td>\n",
       "      <td>2.754098</td>\n",
       "      <td>2.754098</td>\n",
       "      <td>2.754098</td>\n",
       "    </tr>\n",
       "  </tbody>\n",
       "</table>\n",
       "</div>"
      ],
      "text/plain": [
       "               V1        V2        V3        V4        V5        V6        V7  \\\n",
       "cluster                                                                         \n",
       "1        3.000000  3.000000  3.000000  3.000000  3.000000  3.000000  3.000000   \n",
       "2        2.612245  2.632653  2.489796  2.163265  2.142857  2.081633  2.448980   \n",
       "3        4.845455  4.800000  4.836364  4.681818  3.036364  3.036364  3.000000   \n",
       "4        3.000000  2.966102  2.966102  2.915254  2.915254  2.949153  4.915254   \n",
       "5        3.000000  3.000000  3.000000  3.000000  4.852459  4.852459  3.000000   \n",
       "\n",
       "               V8        V9       V10       V11  \n",
       "cluster                                          \n",
       "1        3.000000  4.932203  4.830508  4.898305  \n",
       "2        2.816327  4.979592  4.795918  4.816327  \n",
       "3        2.990909  3.072727  3.045455  3.045455  \n",
       "4        4.915254  3.000000  3.000000  3.000000  \n",
       "5        2.918033  2.754098  2.754098  2.754098  "
      ]
     },
     "execution_count": 81,
     "metadata": {},
     "output_type": "execute_result"
    }
   ],
   "source": [
    "#  Средние значения характеристик в каждом кластере\n",
    "df.groupby('cluster').mean()"
   ]
  },
  {
   "cell_type": "markdown",
   "metadata": {},
   "source": [
    "В принципе здесь 3, 4, и 5 кластеры можно охарактеризовать как в прошлом случае 2, 3 и 4 кластеры соответственно"
   ]
  },
  {
   "cell_type": "markdown",
   "metadata": {},
   "source": [
    "Что происходит с 1 и 2 кластером. Как мы уже поняли, если разрезать выше, то эти два кластера склеиваются в один, в котором люди используют леденцы в медецинских целях. В нашем случае признаки V9, V10, V11 почти не отличаются и они, однако по признакам V1-V8 люди из второго кластера ставили в среднем оценки ниже чем в первом по каждому параметру. То есть люди, попадающие во второй кластер почти всегда пользуются леденцами исключительно в медицинских целях. Люди из первого кластера используют леденцы в основном для лечения, но также могут использовать их в дргуих случаях. Но в целом 1 и 2 кластер не сильно отличаются и разбиение на 4 кластера выглядит более осмысленным."
   ]
  },
  {
   "cell_type": "markdown",
   "metadata": {},
   "source": [
    "Проведем кластеризацию по методу ближайего соседа.В качетсве метрики возьмем Манхэттенскую."
   ]
  },
  {
   "cell_type": "code",
   "execution_count": 82,
   "metadata": {},
   "outputs": [
    {
     "data": {
      "image/png": "[encoded data removed]",
      "text/plain": [
       "<Figure size 648x648 with 1 Axes>"
      ]
     },
     "metadata": {
      "needs_background": "light"
     },
     "output_type": "display_data"
    }
   ],
   "source": [
    "link = linkage(df, 'single', 'cityblock')\n",
    "\n",
    "fig = plt.figure(figsize=(9,9))\n",
    "\n",
    "# строим соответствующую дендрограмму\n",
    "dn = dendrogram(link, color_threshold = -1, no_labels = True)  "
   ]
  },
  {
   "cell_type": "markdown",
   "metadata": {},
   "source": [
    "Построим каменистую осыпь"
   ]
  },
  {
   "cell_type": "code",
   "execution_count": 83,
   "metadata": {},
   "outputs": [
    {
     "data": {
      "text/plain": [
       "Text(317, 3.8, '7 clusters')"
      ]
     },
     "execution_count": 83,
     "metadata": {},
     "output_type": "execute_result"
    },
    {
     "data": {
      "image/png": "[encoded data removed]",
      "text/plain": [
       "<Figure size 648x648 with 1 Axes>"
      ]
     },
     "metadata": {
      "needs_background": "light"
     },
     "output_type": "display_data"
    }
   ],
   "source": [
    "fig = plt.figure(figsize=(9,9))\n",
    "\n",
    "dist = link[310:, 2]\n",
    "dist_rev = dist[::]\n",
    "idxs = range(310, len(dist) + 310)\n",
    "plt.plot(idxs, dist_rev, marker = 'o')\n",
    "plt.xlabel('Step')\n",
    "plt.ylabel('Distance')\n",
    "plt.axhline(5.4, c = 'k', linestyle = 'dashed')\n",
    "plt.text(325, 5.5, '4 clusters')\n",
    "plt.axhline(6.8, c = 'k', linestyle = 'dashed')\n",
    "plt.text(329, 6.9, '3 clusters')\n",
    "plt.axhline(4.4, c = 'k', linestyle = 'dashed')\n",
    "plt.text(322, 4.5, '5 clusters')\n",
    "plt.axhline(7.9, c = 'k', linestyle = 'dashed')\n",
    "plt.text(331, 8, '2 clusters')\n",
    "plt.axhline(3.7, c = 'k', linestyle = 'dashed')\n",
    "plt.text(317, 3.8, '7 clusters')"
   ]
  },
  {
   "cell_type": "markdown",
   "metadata": {},
   "source": [
    "Посмотрим на разбиение на 5 кластеров."
   ]
  },
  {
   "cell_type": "code",
   "execution_count": 84,
   "metadata": {},
   "outputs": [
    {
     "data": {
      "image/png": "[encoded data removed]",
      "text/plain": [
       "<Figure size 648x648 with 1 Axes>"
      ]
     },
     "metadata": {
      "needs_background": "light"
     },
     "output_type": "display_data"
    }
   ],
   "source": [
    "fig = plt.figure(figsize=(9,9))\n",
    "dn = dendrogram(link, color_threshold = 4.3,no_labels = True)"
   ]
  },
  {
   "cell_type": "code",
   "execution_count": 85,
   "metadata": {},
   "outputs": [],
   "source": [
    "#  Добавляем столбец cluster к таблице данных\n",
    "df['cluster'] = fcluster(link, 5, criterion='maxclust')"
   ]
  },
  {
   "cell_type": "code",
   "execution_count": 86,
   "metadata": {},
   "outputs": [
    {
     "data": {
      "text/plain": [
       "cluster\n",
       "1      4\n",
       "2    104\n",
       "3    110\n",
       "4     61\n",
       "5     59\n",
       "dtype: int64"
      ]
     },
     "execution_count": 86,
     "metadata": {},
     "output_type": "execute_result"
    }
   ],
   "source": [
    "#Посчитаем, сколько элементов попало в каждый кластер\n",
    "df.groupby('cluster').size()"
   ]
  },
  {
   "cell_type": "markdown",
   "metadata": {},
   "source": [
    "В первый кластер попало слишком мало элементов, поэтому не получится интерпретировать результат."
   ]
  },
  {
   "cell_type": "markdown",
   "metadata": {},
   "source": [
    "Если будем разбивать на 7 кластеров, то понятно что в первом кластере опять будет очень мало объектов, поэтому тоже не подходит.\n",
    "\n"
   ]
  },
  {
   "cell_type": "markdown",
   "metadata": {},
   "source": [
    "То же самое если разбивать на 4 кластера. Попробуем разбить на три."
   ]
  },
  {
   "cell_type": "code",
   "execution_count": 87,
   "metadata": {},
   "outputs": [
    {
     "data": {
      "image/png": "[encoded data removed]",
      "text/plain": [
       "<Figure size 648x648 with 1 Axes>"
      ]
     },
     "metadata": {
      "needs_background": "light"
     },
     "output_type": "display_data"
    }
   ],
   "source": [
    "fig = plt.figure(figsize=(9,9))\n",
    "dn = dendrogram(link, color_threshold = 6.5 ,no_labels = True)"
   ]
  },
  {
   "cell_type": "code",
   "execution_count": 88,
   "metadata": {},
   "outputs": [],
   "source": [
    "#  Добавляем столбец cluster к таблице данных\n",
    "df['cluster'] = fcluster(link, 3, criterion='maxclust')\n"
   ]
  },
  {
   "cell_type": "code",
   "execution_count": 89,
   "metadata": {},
   "outputs": [
    {
     "data": {
      "text/plain": [
       "cluster\n",
       "1    108\n",
       "2    110\n",
       "3    120\n",
       "dtype: int64"
      ]
     },
     "execution_count": 89,
     "metadata": {},
     "output_type": "execute_result"
    }
   ],
   "source": [
    "#Посчитаем, сколько элементов попало в каждый кластер\n",
    "df.groupby('cluster').size()"
   ]
  },
  {
   "cell_type": "code",
   "execution_count": 90,
   "metadata": {},
   "outputs": [
    {
     "data": {
      "text/html": [
       "<div>\n",
       "<style scoped>\n",
       "    .dataframe tbody tr th:only-of-type {\n",
       "        vertical-align: middle;\n",
       "    }\n",
       "\n",
       "    .dataframe tbody tr th {\n",
       "        vertical-align: top;\n",
       "    }\n",
       "\n",
       "    .dataframe thead th {\n",
       "        text-align: right;\n",
       "    }\n",
       "</style>\n",
       "<table border=\"1\" class=\"dataframe\">\n",
       "  <thead>\n",
       "    <tr style=\"text-align: right;\">\n",
       "      <th></th>\n",
       "      <th>V1</th>\n",
       "      <th>V2</th>\n",
       "      <th>V3</th>\n",
       "      <th>V4</th>\n",
       "      <th>V5</th>\n",
       "      <th>V6</th>\n",
       "      <th>V7</th>\n",
       "      <th>V8</th>\n",
       "      <th>V9</th>\n",
       "      <th>V10</th>\n",
       "      <th>V11</th>\n",
       "    </tr>\n",
       "    <tr>\n",
       "      <th>cluster</th>\n",
       "      <th></th>\n",
       "      <th></th>\n",
       "      <th></th>\n",
       "      <th></th>\n",
       "      <th></th>\n",
       "      <th></th>\n",
       "      <th></th>\n",
       "      <th></th>\n",
       "      <th></th>\n",
       "      <th></th>\n",
       "      <th></th>\n",
       "    </tr>\n",
       "  </thead>\n",
       "  <tbody>\n",
       "    <tr>\n",
       "      <th>1</th>\n",
       "      <td>2.824074</td>\n",
       "      <td>2.833333</td>\n",
       "      <td>2.768519</td>\n",
       "      <td>2.620370</td>\n",
       "      <td>2.611111</td>\n",
       "      <td>2.583333</td>\n",
       "      <td>2.750000</td>\n",
       "      <td>2.916667</td>\n",
       "      <td>4.953704</td>\n",
       "      <td>4.814815</td>\n",
       "      <td>4.861111</td>\n",
       "    </tr>\n",
       "    <tr>\n",
       "      <th>2</th>\n",
       "      <td>4.845455</td>\n",
       "      <td>4.800000</td>\n",
       "      <td>4.836364</td>\n",
       "      <td>4.681818</td>\n",
       "      <td>3.036364</td>\n",
       "      <td>3.036364</td>\n",
       "      <td>3.000000</td>\n",
       "      <td>2.990909</td>\n",
       "      <td>3.072727</td>\n",
       "      <td>3.045455</td>\n",
       "      <td>3.045455</td>\n",
       "    </tr>\n",
       "    <tr>\n",
       "      <th>3</th>\n",
       "      <td>3.000000</td>\n",
       "      <td>2.983333</td>\n",
       "      <td>2.983333</td>\n",
       "      <td>2.958333</td>\n",
       "      <td>3.900000</td>\n",
       "      <td>3.916667</td>\n",
       "      <td>3.941667</td>\n",
       "      <td>3.900000</td>\n",
       "      <td>2.875000</td>\n",
       "      <td>2.875000</td>\n",
       "      <td>2.875000</td>\n",
       "    </tr>\n",
       "  </tbody>\n",
       "</table>\n",
       "</div>"
      ],
      "text/plain": [
       "               V1        V2        V3        V4        V5        V6        V7  \\\n",
       "cluster                                                                         \n",
       "1        2.824074  2.833333  2.768519  2.620370  2.611111  2.583333  2.750000   \n",
       "2        4.845455  4.800000  4.836364  4.681818  3.036364  3.036364  3.000000   \n",
       "3        3.000000  2.983333  2.983333  2.958333  3.900000  3.916667  3.941667   \n",
       "\n",
       "               V8        V9       V10       V11  \n",
       "cluster                                          \n",
       "1        2.916667  4.953704  4.814815  4.861111  \n",
       "2        2.990909  3.072727  3.045455  3.045455  \n",
       "3        3.900000  2.875000  2.875000  2.875000  "
      ]
     },
     "execution_count": 90,
     "metadata": {},
     "output_type": "execute_result"
    }
   ],
   "source": [
    "#  Средние значения характеристик в каждом кластере\n",
    "df.groupby('cluster').mean()"
   ]
  },
  {
   "cell_type": "markdown",
   "metadata": {},
   "source": [
    "Эта кластеризация неплохо описывает первый кластер, в который очевидно входят люди которые в основном покупают леденцы для лечения. Во второй класс попадают те, кто пытается избавиться от запаха изо рта. В третий класс вроде входят любители сладостей и подумать, но оценки небольшие.\n"
   ]
  },
  {
   "cell_type": "markdown",
   "metadata": {},
   "source": [
    "В итоге получили, что метод ближайшего соседа не очень работает на наших данных. Поэтому лучше всего брать кластеризацию по методу Варда и разбивать на 4 кластера."
   ]
  },
  {
   "cell_type": "code",
   "execution_count": null,
   "metadata": {},
   "outputs": [],
   "source": []
  }
 ],
 "metadata": {
  "kernelspec": {
   "display_name": "Python 3",
   "language": "python",
   "name": "python3"
  },
  "language_info": {
   "codemirror_mode": {
    "name": "ipython",
    "version": 3
   },
   "file_extension": ".py",
   "mimetype": "text/x-python",
   "name": "python",
   "nbconvert_exporter": "python",
   "pygments_lexer": "ipython3",
   "version": "3.7.6"
  }
 },
 "nbformat": 4,
 "nbformat_minor": 4
}
